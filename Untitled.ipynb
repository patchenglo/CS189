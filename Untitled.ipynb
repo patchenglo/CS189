{
 "cells": [
  {
   "cell_type": "code",
   "execution_count": 1,
   "metadata": {
    "collapsed": true
   },
   "outputs": [],
   "source": [
    "import numpy as np\n",
    "import scipy.io as sio\n",
    "import matplotlib.pyplot as plt\n",
    "from matplotlib import style\n",
    "style.use(\"ggplot\")\n",
    "from sklearn import svm\n"
   ]
  },
  {
   "cell_type": "code",
   "execution_count": 2,
   "metadata": {
    "collapsed": false,
    "scrolled": false
   },
   "outputs": [],
   "source": [
    "mat_mnist = sio.loadmat('hw01_data/mnist/train.mat')\n",
    "mat_spam = sio.loadmat('hw01_data/spam/spam_data.mat')\n",
    "mat_cifar = sio.loadmat('hw01_data/cifar/train.mat')"
   ]
  },
  {
   "cell_type": "code",
   "execution_count": 3,
   "metadata": {
    "collapsed": false
   },
   "outputs": [],
   "source": [
    "mnist_train = mat_mnist['trainX']\n",
    "cifar_train = mat_cifar['trainX']\n",
    "train = mat_spam['training_data']\n",
    "labels = mat_spam['training_labels']\n",
    "spam_tuples = []\n",
    "for i in xrange(0, len(train)):\n",
    "    spam_tuples.append((train[i], labels[0][i]))\n",
    "spam_train = np.array(spam_tuples)\n",
    "np.random.shuffle(mnist_train)\n",
    "np.random.shuffle(cifar_train)\n",
    "np.random.shuffle(spam_train)"
   ]
  },
  {
   "cell_type": "code",
   "execution_count": 4,
   "metadata": {
    "collapsed": false,
    "scrolled": true
   },
   "outputs": [],
   "source": [
    "mnist_valid = mnist_train[0:10000]\n",
    "mnist_train = mnist_train[10000::]\n",
    "cifar_valid = cifar_train[0:5000]\n",
    "cifar_train = cifar_train[5000::]\n",
    "spam_valid = spam_train[0:1034]\n",
    "spam_train = spam_train[1034::]\n"
   ]
  },
  {
   "cell_type": "code",
   "execution_count": 98,
   "metadata": {
    "collapsed": false
   },
   "outputs": [],
   "source": [
    "mnist100 = mnist_train[0:100]\n",
    "mnist100_Y = [item[-1] for item in mnist100]\n",
    "mnist100_X = mnist100[:,:-1]\n",
    "np.random.shuffle(mnist_train)\n",
    "mnist200 = mnist_train[0:200]\n",
    "mnist200_Y = [item[-1] for item in mnist200]\n",
    "mnist200_X = mnist200[:,:-1]\n",
    "np.random.shuffle(mnist_train)\n",
    "mnist500 = mnist_train[0:500]\n",
    "mnist500_Y = [item[-1] for item in mnist500]\n",
    "mnist500_X = mnist500[:,:-1]\n",
    "\n",
    "np.random.shuffle(mnist_train)\n",
    "mnist1000 = mnist_train[0:1000]\n",
    "mnist1000_Y = [item[-1] for item in mnist1000]\n",
    "mnist1000_X = mnist1000[:,:-1]\n",
    "\n",
    "np.random.shuffle(mnist_train)\n",
    "mnist2000 = mnist_train[0:2000]\n",
    "mnist2000_Y = [item[-1] for item in mnist2000]\n",
    "mnist2000_X = mnist2000[:,:-1]\n",
    "\n",
    "np.random.shuffle(mnist_train)\n",
    "mnist5000 = mnist_train[0:5000]\n",
    "mnist5000_Y = [item[-1] for item in mnist5000]\n",
    "mnist5000_X = mnist5000[:,:-1]\n",
    "\n",
    "mnist_labels = [item[-1] for item in mnist_train]\n",
    "cifar_labels = [item[-1] for item in cifar_train]\n",
    "spam_labels = [item[1] for item in spam_train]\n",
    "mnist_trainX = mnist_train[:,:-1]\n",
    "cifar_trainX = cifar_train[:,:-1]\n",
    "spam_trainX = [item[0] for item in spam_train]"
   ]
  },
  {
   "cell_type": "code",
   "execution_count": 100,
   "metadata": {
    "collapsed": true
   },
   "outputs": [],
   "source": [
    "mnist_clf = svm.SVC(kernel='linear', C = 1.0)\n",
    "cifar_clf = svm.SVC(kernel='linear', C = 1.0)\n",
    "spam_clf = svm.SVC(kernel='linear', C = 1.0)\n"
   ]
  },
  {
   "cell_type": "code",
   "execution_count": null,
   "metadata": {
    "collapsed": true
   },
   "outputs": [],
   "source": []
  },
  {
   "cell_type": "code",
   "execution_count": null,
   "metadata": {
    "collapsed": true
   },
   "outputs": [],
   "source": []
  }
 ],
 "metadata": {
  "anaconda-cloud": {},
  "kernelspec": {
   "display_name": "Python [default]",
   "language": "python",
   "name": "python2"
  },
  "language_info": {
   "codemirror_mode": {
    "name": "ipython",
    "version": 2
   },
   "file_extension": ".py",
   "mimetype": "text/x-python",
   "name": "python",
   "nbconvert_exporter": "python",
   "pygments_lexer": "ipython2",
   "version": "2.7.12"
  }
 },
 "nbformat": 4,
 "nbformat_minor": 1
}
