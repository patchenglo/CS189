{
 "cells": [
  {
   "cell_type": "code",
   "execution_count": 1,
   "metadata": {
    "collapsed": false
   },
   "outputs": [],
   "source": [
    "import numpy as np\n",
    "import scipy.io as sio\n",
    "import matplotlib.pyplot as plt\n",
    "from matplotlib import style\n",
    "style.use(\"ggplot\")\n",
    "from sklearn import svm\n",
    "\n",
    "from sklearn.cross_validation import cross_val_score\n"
   ]
  },
  {
   "cell_type": "code",
   "execution_count": 2,
   "metadata": {
    "collapsed": false,
    "scrolled": false
   },
   "outputs": [],
   "source": [
    "mat_mnist = sio.loadmat('hw01_data/mnist/train.mat')\n",
    "mat_spam = sio.loadmat('hw01_data/spam/spam_data.mat')\n",
    "mat_cifar = sio.loadmat('hw01_data/cifar/train.mat')"
   ]
  },
  {
   "cell_type": "code",
   "execution_count": 3,
   "metadata": {
    "collapsed": false,
    "scrolled": true
   },
   "outputs": [],
   "source": [
    "mnist_train = mat_mnist['trainX']\n",
    "cifar_train = mat_cifar['trainX']\n",
    "train = mat_spam['training_data']\n",
    "labels = mat_spam['training_labels']\n",
    "spam_tuples = []\n",
    "for i in range(0, len(train)):\n",
    "    spam_tuples.append((train[i], labels[0][i]))\n",
    "spam_train = np.array(spam_tuples)\n",
    "np.random.shuffle(mnist_train)\n",
    "np.random.shuffle(cifar_train)\n",
    "np.random.shuffle(spam_train)"
   ]
  },
  {
   "cell_type": "code",
   "execution_count": null,
   "metadata": {
    "collapsed": false,
    "scrolled": true
   },
   "outputs": [],
   "source": [
    "mnist_valid = mnist_train[0:10000]\n",
    "mnist_train = mnist_train[10000::]\n",
    "cifar_valid = cifar_train[0:5000]\n",
    "cifar_train = cifar_train[5000::]\n",
    "spam_valid = spam_train[0:1034]\n",
    "spam_train = spam_train[1034::]\n"
   ]
  },
  {
   "cell_type": "code",
   "execution_count": null,
   "metadata": {
    "collapsed": false
   },
   "outputs": [],
   "source": [
    "mnistsamples = [100,200,500,1000, 2000, 5000, 10000]\n",
    "mnistXY = []\n",
    "\n",
    "for sample in mnistsamples:\n",
    "    mnistsample = mnist_train[0:sample]\n",
    "    mnist_Y = [item[-1] for item in mnistsample]\n",
    "    mnist_X = mnistsample[:,:-1]\n",
    "    mnistXY.append((mnist_X, mnist_Y))\n",
    "\n",
    "cifarsamples = [100,200,500,1000,2000 , 5000]\n",
    "cifarXY = []\n",
    "\n",
    "for sample in cifarsamples:\n",
    "    cifarsample = cifar_train[0:sample]\n",
    "    cifar_Y = [item[-1] for item in cifarsample]\n",
    "    cifar_X = cifarsample[:,:-1]\n",
    "    cifarXY.append((cifar_X, cifar_Y))\n",
    "    \n",
    "spamsamples = [100,200,500,1000,2000]\n",
    "spamXY = []\n",
    "\n",
    "for sample in spamsamples:\n",
    "    spamsample = spam_train[0:sample]\n",
    "    spam_Y = [item[1] for item in spamsample]\n",
    "    spam_X = [item[0] for item in spamsample]\n",
    "    spamXY.append((spam_X, spam_Y))\n"
   ]
  },
  {
   "cell_type": "code",
   "execution_count": null,
   "metadata": {
    "collapsed": false
   },
   "outputs": [],
   "source": [
    "correct = [item[-1] for item in mnist_valid]\n",
    "mnist_input = mnist_valid[:,:-1]\n",
    "percentages = []\n",
    "\n",
    "mnist100 = mnistXY[0]\n",
    "mnist_clf = svm.SVC(kernel='linear', C = 1.0)\n",
    "mnist_clf.fit(mnist100[0], mnist100[1])\n",
    "predictions = mnist_clf.predict(mnist_input)\n",
    "counter = 0\n",
    "for i in xrange(0, len(predictions)):\n",
    "    if predictions[i] == correct[i]:\n",
    "        counter += 1\n",
    "percent = float(counter) / len(predictions)\n",
    "percentages.append(percent)\n",
    "\n",
    "print percent\n",
    "    \n",
    "    "
   ]
  },
  {
   "cell_type": "code",
   "execution_count": null,
   "metadata": {
    "collapsed": false
   },
   "outputs": [],
   "source": [
    "mnist200 = mnistXY[1]\n",
    "mnist_clf = svm.SVC(kernel='linear', C = 1.0)\n",
    "mnist_clf.fit(mnist200[0], mnist200[1])\n",
    "predictions = mnist_clf.predict(mnist_input)\n",
    "counter = 0\n",
    "for i in xrange(0, len(predictions)):\n",
    "    if predictions[i] == correct[i]:\n",
    "        counter += 1\n",
    "percent = float(counter) / len(predictions)\n",
    "percentages.append(percent)\n",
    "\n",
    "print percent"
   ]
  },
  {
   "cell_type": "code",
   "execution_count": null,
   "metadata": {
    "collapsed": false
   },
   "outputs": [],
   "source": [
    "mnist500 = mnistXY[2]\n",
    "mnist_clf = svm.SVC(kernel='linear', C = 1.0)\n",
    "mnist_clf.fit(mnist500[0], mnist500[1])\n",
    "predictions = mnist_clf.predict(mnist_input)\n",
    "counter = 0\n",
    "for i in xrange(0, len(predictions)):\n",
    "    if predictions[i] == correct[i]:\n",
    "        counter += 1\n",
    "percent = float(counter) / len(predictions)\n",
    "percentages.append(percent)\n",
    "\n",
    "print percent"
   ]
  },
  {
   "cell_type": "code",
   "execution_count": null,
   "metadata": {
    "collapsed": false
   },
   "outputs": [],
   "source": [
    "mnist1000 = mnistXY[3]\n",
    "mnist_clf = svm.SVC(kernel='linear', C = 1.0)\n",
    "mnist_clf.fit(mnist1000[0], mnist1000[1])\n",
    "predictions = mnist_clf.predict(mnist_input)\n",
    "counter = 0\n",
    "for i in xrange(0, len(predictions)):\n",
    "    if predictions[i] == correct[i]:\n",
    "        counter += 1\n",
    "percent = float(counter) / len(predictions)\n",
    "percentages.append(percent)\n",
    "\n",
    "print percent"
   ]
  },
  {
   "cell_type": "code",
   "execution_count": null,
   "metadata": {
    "collapsed": false
   },
   "outputs": [],
   "source": [
    "mnist2000 = mnistXY[4]\n",
    "mnist_clf = svm.SVC(kernel='linear', C = 1.0)\n",
    "mnist_clf.fit(mnist2000[0], mnist2000[1])\n",
    "predictions = mnist_clf.predict(mnist_input)\n",
    "counter = 0\n",
    "for i in xrange(0, len(predictions)):\n",
    "    if predictions[i] == correct[i]:\n",
    "        counter += 1\n",
    "percent = float(counter) / len(predictions)\n",
    "percentages.append(percent)\n",
    "\n",
    "print percent"
   ]
  },
  {
   "cell_type": "code",
   "execution_count": null,
   "metadata": {
    "collapsed": false
   },
   "outputs": [],
   "source": [
    "mnist5000 = mnistXY[5]\n",
    "mnist_clf = svm.SVC(kernel='linear', C = 1.0)\n",
    "mnist_clf.fit(mnist5000[0], mnist5000[1])\n",
    "predictions = mnist_clf.predict(mnist_input)\n",
    "counter = 0\n",
    "for i in xrange(0, len(predictions)):\n",
    "    if predictions[i] == correct[i]:\n",
    "        counter += 1\n",
    "percent = float(counter) / len(predictions)\n",
    "percentages.append(percent)\n",
    "\n",
    "print percent"
   ]
  },
  {
   "cell_type": "code",
   "execution_count": null,
   "metadata": {
    "collapsed": false
   },
   "outputs": [],
   "source": [
    "mnist10000 = mnistXY[6]\n",
    "mnist_clf = svm.SVC(kernel='linear', C = 1.0)\n",
    "mnist_clf.fit(mnist10000[0], mnist10000[1])\n",
    "predictions = mnist_clf.predict(mnist_input)\n",
    "counter = 0\n",
    "for i in xrange(0, len(predictions)):\n",
    "    if predictions[i] == correct[i]:\n",
    "        counter += 1\n",
    "percent = float(counter) / len(predictions)\n",
    "percentages.append(percent)\n",
    "\n",
    "print percent"
   ]
  },
  {
   "cell_type": "code",
   "execution_count": null,
   "metadata": {
    "collapsed": false
   },
   "outputs": [],
   "source": [
    "mnist_percentages = percentages\n",
    "mnist_percentages"
   ]
  },
  {
   "cell_type": "code",
   "execution_count": null,
   "metadata": {
    "collapsed": false
   },
   "outputs": [],
   "source": [
    "correct = [item[-1] for item in cifar_valid]\n",
    "cifar_input = cifar_valid[:,:-1]\n",
    "cifar_percentages = []\n",
    "\n",
    "for XY in cifarXY:\n",
    "    cifar_clf = svm.SVC(kernel='linear', C = 1.0)\n",
    "    cifar_clf.fit(XY[0], XY[1])\n",
    "    predictions = cifar_clf.predict(cifar_input)\n",
    "    counter = 0\n",
    "    for i in xrange(0, len(predictions)):\n",
    "        if predictions[i] == correct[i]:\n",
    "            counter += 1\n",
    "    percent = float(counter) / len(predictions)\n",
    "    cifar_percentages.append(percent)\n",
    "\n",
    "print cifar_percentages"
   ]
  },
  {
   "cell_type": "code",
   "execution_count": null,
   "metadata": {
    "collapsed": false
   },
   "outputs": [],
   "source": [
    "correct = [item[1] for item in spam_valid]\n",
    "spam_input = [item[0] for item in spam_valid]\n",
    "spam_percentages = []\n",
    "\n",
    "for XY in spamXY:\n",
    "    spam_clf = svm.SVC(kernel='linear', C = 1.0)\n",
    "    spam_clf.fit(XY[0], XY[1])\n",
    "    predictions = spam_clf.predict(spam_input)\n",
    "    counter = 0\n",
    "    for i in xrange(0, len(predictions)):\n",
    "        if predictions[i] == correct[i]:\n",
    "            counter += 1\n",
    "    percent = float(counter) / len(predictions)\n",
    "    spam_percentages.append(percent)\n",
    "\n",
    "print spam_percentages"
   ]
  },
  {
   "cell_type": "code",
   "execution_count": null,
   "metadata": {
    "collapsed": false
   },
   "outputs": [],
   "source": [
    "plt.scatter(mnistsamples, mnist_percentages)\n",
    "plt.show()"
   ]
  },
  {
   "cell_type": "code",
   "execution_count": null,
   "metadata": {
    "collapsed": false
   },
   "outputs": [],
   "source": [
    "plt.scatter(spamsamples, spam_percentages)\n",
    "plt.show()"
   ]
  },
  {
   "cell_type": "code",
   "execution_count": null,
   "metadata": {
    "collapsed": false,
    "scrolled": true
   },
   "outputs": [],
   "source": [
    "plt.scatter(cifarsamples, cifar_percentages)\n",
    "plt.show()"
   ]
  },
  {
   "cell_type": "code",
   "execution_count": null,
   "metadata": {
    "collapsed": false
   },
   "outputs": [],
   "source": [
    "c_values = [0.000000001,0.0000001,0.00001,0.001,0.1,1.0,100.0, 10000.0, 1000000.0]\n",
    "correct = [item[-1] for item in mnist_valid]\n",
    "c_percentages = []\n",
    "for c in c_values:\n",
    "    mnist_clf = svm.SVC(kernel='linear', C = c)\n",
    "    mnist_clf.fit(mnist10000[0], mnist10000[1])\n",
    "    predictions = mnist_clf.predict(mnist_input)\n",
    "    counter = 0\n",
    "    for i in xrange(0, len(predictions)):\n",
    "        if predictions[i] == correct[i]:\n",
    "            counter += 1\n",
    "    percent = float(counter) / len(predictions)\n",
    "    c_percentages.append(percent)\n",
    "print c_percentages"
   ]
  },
  {
   "cell_type": "code",
   "execution_count": null,
   "metadata": {
    "collapsed": false
   },
   "outputs": [],
   "source": [
    "plt.scatter(c_values[:4], c_percentages[:4])\n",
    "plt.show()"
   ]
  },
  {
   "cell_type": "markdown",
   "metadata": {},
   "source": [
    "Best C value was .0000001\n",
    "Values I tried were [0.000000001,0.0000001,0.00001,0.001,0.1,1.0,100.0, 10000.0, 1000000.0]\n",
    "Corresponding percentages were [0.6736, 0.9234, 0.9217, 0.9128, 0.9128, 0.9128, 0.9128, 0.9128, 0.9128]"
   ]
  },
  {
   "cell_type": "code",
   "execution_count": 27,
   "metadata": {
    "collapsed": false
   },
   "outputs": [
    {
     "name": "stdout",
     "output_type": "stream",
     "text": [
      "[0.80162008615292613, 0.80200693334828388, 0.80181369663330815]\n"
     ]
    }
   ],
   "source": [
    "k_c_values = [8.4999, 8.5 ,8.5001]\n",
    "k_c_percent = []\n",
    "\n",
    "for c in k_c_values:\n",
    "    clf = svm.SVC(kernel='linear', C=c)\n",
    "    scores = cross_val_score(clf, train, labels[0], cv=5)\n",
    "    k_c_percent.append(scores.mean())\n",
    "\n",
    "print(k_c_percent)\n",
    "        \n",
    "        \n",
    "                \n",
    "                \n",
    "        \n",
    "    "
   ]
  },
  {
   "cell_type": "code",
   "execution_count": null,
   "metadata": {
    "collapsed": false
   },
   "outputs": [],
   "source": [
    "c = 0.0000001\n",
    "clf = svm.SVC(kernel='linear', C=c)\n",
    "scores = cross_val_score(clf, [item[0] for item in k_spam_train], [item[1] for item in k_spam_train], cv=5)\n",
    "k_c_percent.append(scores.mean())\n",
    "\n",
    "\n",
    "print(k_c_percent)"
   ]
  },
  {
   "cell_type": "code",
   "execution_count": null,
   "metadata": {
    "collapsed": false
   },
   "outputs": [],
   "source": [
    "c = 0.0000001\n",
    "clf = svm.SVC(kernel='linear', C=c)\n",
    "scores = cross_val_score(clf, [item[0] for item in k_spam_train], [item[1] for item in k_spam_train], cv=5)\n",
    "k_c_percent.append(scores.mean())\n",
    "\n",
    "\n",
    "print(k_c_percent)"
   ]
  },
  {
   "cell_type": "code",
   "execution_count": null,
   "metadata": {
    "collapsed": false
   },
   "outputs": [],
   "source": [
    "c = 0.00001\n",
    "clf = svm.SVC(kernel='linear', C=c)\n",
    "scores = cross_val_score(clf, [item[0] for item in k_spam_train], [item[1] for item in k_spam_train], cv=5)\n",
    "k_c_percent.append(scores.mean())\n",
    "\n",
    "\n",
    "print(k_c_percent)"
   ]
  },
  {
   "cell_type": "code",
   "execution_count": null,
   "metadata": {
    "collapsed": false
   },
   "outputs": [],
   "source": [
    "c = 0.001\n",
    "clf = svm.SVC(kernel='linear', C=c)\n",
    "scores = cross_val_score(clf, [item[0] for item in k_spam_train], [item[1] for item in k_spam_train], cv=5)\n",
    "k_c_percent.append(scores.mean())\n",
    "\n",
    "\n",
    "print(k_c_percent)"
   ]
  },
  {
   "cell_type": "code",
   "execution_count": null,
   "metadata": {
    "collapsed": false
   },
   "outputs": [],
   "source": [
    "c = 0.1\n",
    "clf = svm.SVC(kernel='linear', C=c)\n",
    "scores = cross_val_score(clf, [item[0] for item in k_spam_train], [item[1] for item in k_spam_train], cv=5)\n",
    "k_c_percent.append(scores.mean())\n",
    "\n",
    "\n",
    "print(k_c_percent)"
   ]
  },
  {
   "cell_type": "code",
   "execution_count": null,
   "metadata": {
    "collapsed": false
   },
   "outputs": [],
   "source": [
    "c = 1.0\n",
    "clf = svm.SVC(kernel='linear', C=c)\n",
    "scores = cross_val_score(clf, [item[0] for item in k_spam_train], [item[1] for item in k_spam_train], cv=5)\n",
    "k_c_percent.append(scores.mean())\n",
    "\n",
    "\n",
    "print(k_c_percent)"
   ]
  },
  {
   "cell_type": "code",
   "execution_count": null,
   "metadata": {
    "collapsed": false
   },
   "outputs": [],
   "source": [
    "c = 10.0\n",
    "clf = svm.SVC(kernel='linear', C=c)\n",
    "scores = cross_val_score(clf, [item[0] for item in k_spam_train], [item[1] for item in k_spam_train], cv=5)\n",
    "k_c_percent.append(scores.mean())\n",
    "\n",
    "\n",
    "print(k_c_percent)"
   ]
  },
  {
   "cell_type": "code",
   "execution_count": null,
   "metadata": {
    "collapsed": true
   },
   "outputs": [],
   "source": [
    "k_c_values = [0.000000001,0.0000001,0.00001,0.001,0.1,1.0, 10]\n",
    "\n"
   ]
  },
  {
   "cell_type": "markdown",
   "metadata": {},
   "source": [
    "Best C value was 10\n",
    "Values I tried were [0.000000001,0.0000001,0.00001,0.001,0.1,1.0, 10]\n",
    "\n",
    "Corresponding percentages were [0.70997673310346765, 0.70997673310346765, 0.70997673310346765, 0.75193040488137619, 0.79659518403274188, 0.80220297330380586, 0.80355619095674613]"
   ]
  },
  {
   "cell_type": "code",
   "execution_count": null,
   "metadata": {
    "collapsed": false
   },
   "outputs": [],
   "source": [
    "test_mnist = sio.loadmat('hw01_data/mnist/kaggle/test.mat')['testX']\n"
   ]
  },
  {
   "cell_type": "code",
   "execution_count": null,
   "metadata": {
    "collapsed": true
   },
   "outputs": [],
   "source": [
    "mnist_train_all = mat_mnist['trainX']\n",
    "mnist_all_Y = [item[-1] for item in mnist_train_all]\n",
    "mnist_all_X = mnist_train_all[:,:-1]\n",
    "\n",
    "\n",
    "mnist_clf = svm.SVC(kernel='linear', C = 0.0000001)\n",
    "mnist_clf.fit(mnist_all_X, mnist_all_Y)\n",
    "predictions = mnist_clf.predict(test_mnist)"
   ]
  },
  {
   "cell_type": "code",
   "execution_count": null,
   "metadata": {
    "collapsed": false
   },
   "outputs": [],
   "source": [
    "mnist_test_predictions = predictions\n",
    "mnist_indexed = []\n",
    "for i in xrange(0, len(mnist_test_predictions)):\n",
    "    mnist_indexed.append([i, mnist_test_predictions[i]])\n",
    "mnist_indexed = np.array(mnist_indexed)"
   ]
  },
  {
   "cell_type": "code",
   "execution_count": null,
   "metadata": {
    "collapsed": false
   },
   "outputs": [],
   "source": [
    "test_spam = sio.loadmat('hw01_data/spam/kaggle/spam_test_data.mat')['test_data']\n",
    "spam_predictions = spam_clf.predict(test_spam)\n",
    "spam_indexed = []\n",
    "for i in xrange(0, len(spam_predictions)):\n",
    "    spam_indexed.append([i, spam_predictions[i]])\n",
    "spam_indexed = np.array(spam_indexed)"
   ]
  },
  {
   "cell_type": "code",
   "execution_count": null,
   "metadata": {
    "collapsed": false
   },
   "outputs": [],
   "source": [
    "spam_indexed"
   ]
  },
  {
   "cell_type": "code",
   "execution_count": null,
   "metadata": {
    "collapsed": true
   },
   "outputs": [],
   "source": [
    "with open(\"mnist_predict.csv\", \"wb\") as f:\n",
    "    f.write('Id,Category\\n')\n",
    "    np.savetxt(f, mnist_indexed, fmt='%i', delimiter=',')\n",
    "\n",
    "with open(\"spam_predict.csv\", \"wb\") as f:\n",
    "    f.write('Id,Category\\n')\n",
    "    np.savetxt(f, spam_indexed, fmt='%i', delimiter=',')    \n"
   ]
  },
  {
   "cell_type": "code",
   "execution_count": 4,
   "metadata": {
    "collapsed": false
   },
   "outputs": [
    {
     "data": {
      "text/plain": [
       "SVC(C=10.0, cache_size=200, class_weight=None, coef0=0.0,\n",
       "  decision_function_shape=None, degree=3, gamma='auto', kernel='linear',\n",
       "  max_iter=-1, probability=False, random_state=None, shrinking=True,\n",
       "  tol=0.001, verbose=False)"
      ]
     },
     "execution_count": 4,
     "metadata": {},
     "output_type": "execute_result"
    }
   ],
   "source": [
    "test_spam_clf = svm.SVC(kernel='linear', C = 10.0)\n",
    "test_spam_clf.fit(train, labels[0])\n"
   ]
  },
  {
   "cell_type": "code",
   "execution_count": 6,
   "metadata": {
    "collapsed": false
   },
   "outputs": [],
   "source": [
    "test_spam = sio.loadmat('hw01_data/spam/kaggle/spam_test_data.mat')['test_data']\n",
    "spam_predictions = test_spam_clf.predict(test_spam)\n",
    "spam_indexed = []\n",
    "for i in range(0, len(spam_predictions)):\n",
    "    spam_indexed.append([i, spam_predictions[i]])\n",
    "spam_indexed = np.array(spam_indexed)"
   ]
  },
  {
   "cell_type": "code",
   "execution_count": 14,
   "metadata": {
    "collapsed": false
   },
   "outputs": [],
   "source": [
    "with open(\"spam_predict.csv\", \"wb\") as f:\n",
    "    f.write(b'Id,Category\\n')\n",
    "    np.savetxt(f, spam_indexed, fmt='%i', delimiter=',')  \n"
   ]
  },
  {
   "cell_type": "code",
   "execution_count": null,
   "metadata": {
    "collapsed": true
   },
   "outputs": [],
   "source": []
  }
 ],
 "metadata": {
  "anaconda-cloud": {},
  "kernelspec": {
   "display_name": "Python [default]",
   "language": "python",
   "name": "python3"
  },
  "language_info": {
   "codemirror_mode": {
    "name": "ipython",
    "version": 3
   },
   "file_extension": ".py",
   "mimetype": "text/x-python",
   "name": "python",
   "nbconvert_exporter": "python",
   "pygments_lexer": "ipython3",
   "version": "3.5.2"
  }
 },
 "nbformat": 4,
 "nbformat_minor": 1
}
