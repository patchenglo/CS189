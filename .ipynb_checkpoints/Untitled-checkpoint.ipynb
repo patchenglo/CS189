{
 "cells": [
  {
   "cell_type": "code",
   "execution_count": 15,
   "metadata": {
    "collapsed": true
   },
   "outputs": [],
   "source": [
    "import numpy as np\n",
    "import scipy.io as sio\n",
    "import matplotlib.pyplot as plt\n",
    "from matplotlib import style\n",
    "style.use(\"ggplot\")\n",
    "from sklearn import svm\n",
    "from sklearn.model_selection import KFold\n",
    "from sklearn.model_selection import cross_val_score\n"
   ]
  },
  {
   "cell_type": "code",
   "execution_count": 2,
   "metadata": {
    "collapsed": false,
    "scrolled": false
   },
   "outputs": [],
   "source": [
    "mat_mnist = sio.loadmat('hw01_data/mnist/train.mat')\n",
    "mat_spam = sio.loadmat('hw01_data/spam/spam_data.mat')\n",
    "mat_cifar = sio.loadmat('hw01_data/cifar/train.mat')"
   ]
  },
  {
   "cell_type": "code",
   "execution_count": 3,
   "metadata": {
    "collapsed": false
   },
   "outputs": [],
   "source": [
    "mnist_train = mat_mnist['trainX']\n",
    "cifar_train = mat_cifar['trainX']\n",
    "train = mat_spam['training_data']\n",
    "labels = mat_spam['training_labels']\n",
    "spam_tuples = []\n",
    "for i in xrange(0, len(train)):\n",
    "    spam_tuples.append((train[i], labels[0][i]))\n",
    "spam_train = np.array(spam_tuples)\n",
    "np.random.shuffle(mnist_train)\n",
    "np.random.shuffle(cifar_train)\n",
    "np.random.shuffle(spam_train)"
   ]
  },
  {
   "cell_type": "code",
   "execution_count": 4,
   "metadata": {
    "collapsed": false,
    "scrolled": true
   },
   "outputs": [],
   "source": [
    "mnist_valid = mnist_train[0:10000]\n",
    "mnist_train = mnist_train[10000::]\n",
    "cifar_valid = cifar_train[0:5000]\n",
    "cifar_train = cifar_train[5000::]\n",
    "spam_valid = spam_train[0:1034]\n",
    "spam_train = spam_train[1034::]\n"
   ]
  },
  {
   "cell_type": "code",
   "execution_count": 5,
   "metadata": {
    "collapsed": false
   },
   "outputs": [],
   "source": [
    "mnistsamples = [100,200,500,1000, 2000, 5000, 10000]\n",
    "mnistXY = []\n",
    "\n",
    "for sample in mnistsamples:\n",
    "    mnistsample = mnist_train[0:sample]\n",
    "    mnist_Y = [item[-1] for item in mnistsample]\n",
    "    mnist_X = mnistsample[:,:-1]\n",
    "    mnistXY.append((mnist_X, mnist_Y))\n",
    "\n",
    "cifarsamples = [100,200,500,1000,2000 , 5000]\n",
    "cifarXY = []\n",
    "\n",
    "for sample in cifarsamples:\n",
    "    cifarsample = cifar_train[0:sample]\n",
    "    cifar_Y = [item[-1] for item in cifarsample]\n",
    "    cifar_X = cifarsample[:,:-1]\n",
    "    cifarXY.append((cifar_X, cifar_Y))\n",
    "    \n",
    "spamsamples = [100,200,500,1000,2000]\n",
    "spamXY = []\n",
    "\n",
    "for sample in spamsamples:\n",
    "    spamsample = spam_train[0:sample]\n",
    "    spam_Y = [item[1] for item in spamsample]\n",
    "    spam_X = [item[0] for item in spamsample]\n",
    "    spamXY.append((spam_X, spam_Y))\n",
    "    \n",
    "# mnist_labels = [item[-1] for item in mnist_train]\n",
    "# cifar_labels = [item[-1] for item in cifar_train]\n",
    "# spam_labels = [item[1] for item in spam_train]\n",
    "# mnist_trainX = mnist_train[:,:-1]\n",
    "# cifar_trainX = cifar_train[:,:-1]\n",
    "# spam_trainX = [item[0] for item in spam_train]"
   ]
  },
  {
   "cell_type": "code",
   "execution_count": 6,
   "metadata": {
    "collapsed": false
   },
   "outputs": [
    {
     "name": "stdout",
     "output_type": "stream",
     "text": [
      "0.7382\n"
     ]
    }
   ],
   "source": [
    "correct = [item[-1] for item in mnist_valid]\n",
    "mnist_input = mnist_valid[:,:-1]\n",
    "percentages = []\n",
    "\n",
    "mnist100 = mnistXY[0]\n",
    "mnist_clf = svm.SVC(kernel='linear', C = 1.0)\n",
    "mnist_clf.fit(mnist100[0], mnist100[1])\n",
    "predictions = mnist_clf.predict(mnist_input)\n",
    "counter = 0\n",
    "for i in xrange(0, len(predictions)):\n",
    "    if predictions[i] == correct[i]:\n",
    "        counter += 1\n",
    "percent = float(counter) / len(predictions)\n",
    "percentages.append(percent)\n",
    "\n",
    "print percent\n",
    "    \n",
    "        \n",
    "#predict = mnist_clf.predict(predictin)\n",
    "#lol.append(predict)\n",
    "\n",
    "# cifar_clf = svm.SVC(kernel='linear', C = 1.0)\n",
    "# spam_clf = svm.SVC(kernel='linear', C = 1.0)\n",
    "# for XY in mnistXY:\n",
    "#     mnist_clf = svm.SVC(kernel='linear', C= 1.0)\n",
    "#     mnist_clf.fit(XY[0],XY[1])\n",
    "    "
   ]
  },
  {
   "cell_type": "code",
   "execution_count": 7,
   "metadata": {
    "collapsed": false
   },
   "outputs": [
    {
     "name": "stdout",
     "output_type": "stream",
     "text": [
      "0.8224\n"
     ]
    }
   ],
   "source": [
    "mnist200 = mnistXY[1]\n",
    "mnist_clf = svm.SVC(kernel='linear', C = 1.0)\n",
    "mnist_clf.fit(mnist200[0], mnist200[1])\n",
    "predictions = mnist_clf.predict(mnist_input)\n",
    "counter = 0\n",
    "for i in xrange(0, len(predictions)):\n",
    "    if predictions[i] == correct[i]:\n",
    "        counter += 1\n",
    "percent = float(counter) / len(predictions)\n",
    "percentages.append(percent)\n",
    "\n",
    "print percent"
   ]
  },
  {
   "cell_type": "code",
   "execution_count": 8,
   "metadata": {
    "collapsed": false
   },
   "outputs": [
    {
     "name": "stdout",
     "output_type": "stream",
     "text": [
      "0.8611\n"
     ]
    }
   ],
   "source": [
    "mnist500 = mnistXY[2]\n",
    "mnist_clf = svm.SVC(kernel='linear', C = 1.0)\n",
    "mnist_clf.fit(mnist500[0], mnist500[1])\n",
    "predictions = mnist_clf.predict(mnist_input)\n",
    "counter = 0\n",
    "for i in xrange(0, len(predictions)):\n",
    "    if predictions[i] == correct[i]:\n",
    "        counter += 1\n",
    "percent = float(counter) / len(predictions)\n",
    "percentages.append(percent)\n",
    "\n",
    "print percent"
   ]
  },
  {
   "cell_type": "code",
   "execution_count": 9,
   "metadata": {
    "collapsed": false
   },
   "outputs": [
    {
     "name": "stdout",
     "output_type": "stream",
     "text": [
      "0.8791\n"
     ]
    }
   ],
   "source": [
    "mnist1000 = mnistXY[3]\n",
    "mnist_clf = svm.SVC(kernel='linear', C = 1.0)\n",
    "mnist_clf.fit(mnist1000[0], mnist1000[1])\n",
    "predictions = mnist_clf.predict(mnist_input)\n",
    "counter = 0\n",
    "for i in xrange(0, len(predictions)):\n",
    "    if predictions[i] == correct[i]:\n",
    "        counter += 1\n",
    "percent = float(counter) / len(predictions)\n",
    "percentages.append(percent)\n",
    "\n",
    "print percent"
   ]
  },
  {
   "cell_type": "code",
   "execution_count": 10,
   "metadata": {
    "collapsed": false
   },
   "outputs": [
    {
     "name": "stdout",
     "output_type": "stream",
     "text": [
      "0.8975\n"
     ]
    }
   ],
   "source": [
    "mnist2000 = mnistXY[4]\n",
    "mnist_clf = svm.SVC(kernel='linear', C = 1.0)\n",
    "mnist_clf.fit(mnist2000[0], mnist2000[1])\n",
    "predictions = mnist_clf.predict(mnist_input)\n",
    "counter = 0\n",
    "for i in xrange(0, len(predictions)):\n",
    "    if predictions[i] == correct[i]:\n",
    "        counter += 1\n",
    "percent = float(counter) / len(predictions)\n",
    "percentages.append(percent)\n",
    "\n",
    "print percent"
   ]
  },
  {
   "cell_type": "code",
   "execution_count": 11,
   "metadata": {
    "collapsed": false
   },
   "outputs": [
    {
     "name": "stdout",
     "output_type": "stream",
     "text": [
      "0.9063\n"
     ]
    }
   ],
   "source": [
    "mnist5000 = mnistXY[5]\n",
    "mnist_clf = svm.SVC(kernel='linear', C = 1.0)\n",
    "mnist_clf.fit(mnist5000[0], mnist5000[1])\n",
    "predictions = mnist_clf.predict(mnist_input)\n",
    "counter = 0\n",
    "for i in xrange(0, len(predictions)):\n",
    "    if predictions[i] == correct[i]:\n",
    "        counter += 1\n",
    "percent = float(counter) / len(predictions)\n",
    "percentages.append(percent)\n",
    "\n",
    "print percent"
   ]
  },
  {
   "cell_type": "code",
   "execution_count": 12,
   "metadata": {
    "collapsed": false
   },
   "outputs": [
    {
     "name": "stdout",
     "output_type": "stream",
     "text": [
      "0.9128\n"
     ]
    }
   ],
   "source": [
    "mnist10000 = mnistXY[6]\n",
    "mnist_clf = svm.SVC(kernel='linear', C = 1.0)\n",
    "mnist_clf.fit(mnist10000[0], mnist10000[1])\n",
    "predictions = mnist_clf.predict(mnist_input)\n",
    "counter = 0\n",
    "for i in xrange(0, len(predictions)):\n",
    "    if predictions[i] == correct[i]:\n",
    "        counter += 1\n",
    "percent = float(counter) / len(predictions)\n",
    "percentages.append(percent)\n",
    "\n",
    "print percent"
   ]
  },
  {
   "cell_type": "code",
   "execution_count": 13,
   "metadata": {
    "collapsed": false
   },
   "outputs": [
    {
     "data": {
      "text/plain": [
       "[0.7382, 0.8224, 0.8611, 0.8791, 0.8975, 0.9063, 0.9128]"
      ]
     },
     "execution_count": 13,
     "metadata": {},
     "output_type": "execute_result"
    }
   ],
   "source": [
    "mnist_percentages = percentages\n",
    "mnist_percentages"
   ]
  },
  {
   "cell_type": "code",
   "execution_count": 14,
   "metadata": {
    "collapsed": false
   },
   "outputs": [
    {
     "name": "stdout",
     "output_type": "stream",
     "text": [
      "[0.2424, 0.2626, 0.2716, 0.2804, 0.2956, 0.2798]\n"
     ]
    }
   ],
   "source": [
    "correct = [item[-1] for item in cifar_valid]\n",
    "cifar_input = cifar_valid[:,:-1]\n",
    "cifar_percentages = []\n",
    "\n",
    "for XY in cifarXY:\n",
    "    cifar_clf = svm.SVC(kernel='linear', C = 1.0)\n",
    "    cifar_clf.fit(XY[0], XY[1])\n",
    "    predictions = cifar_clf.predict(cifar_input)\n",
    "    counter = 0\n",
    "    for i in xrange(0, len(predictions)):\n",
    "        if predictions[i] == correct[i]:\n",
    "            counter += 1\n",
    "    percent = float(counter) / len(predictions)\n",
    "    cifar_percentages.append(percent)\n",
    "\n",
    "print cifar_percentages"
   ]
  },
  {
   "cell_type": "code",
   "execution_count": 16,
   "metadata": {
    "collapsed": false
   },
   "outputs": [
    {
     "name": "stdout",
     "output_type": "stream",
     "text": [
      "[0.7891682785299806, 0.7901353965183753, 0.8036750483558994, 0.8036750483558994, 0.8075435203094777]\n"
     ]
    }
   ],
   "source": [
    "correct = [item[1] for item in spam_valid]\n",
    "spam_input = [item[0] for item in spam_valid]\n",
    "spam_percentages = []\n",
    "\n",
    "for XY in spamXY:\n",
    "    spam_clf = svm.SVC(kernel='linear', C = 1.0)\n",
    "    spam_clf.fit(XY[0], XY[1])\n",
    "    predictions = spam_clf.predict(spam_input)\n",
    "    counter = 0\n",
    "    for i in xrange(0, len(predictions)):\n",
    "        if predictions[i] == correct[i]:\n",
    "            counter += 1\n",
    "    percent = float(counter) / len(predictions)\n",
    "    spam_percentages.append(percent)\n",
    "\n",
    "print spam_percentages"
   ]
  },
  {
   "cell_type": "code",
   "execution_count": 17,
   "metadata": {
    "collapsed": false
   },
   "outputs": [
    {
     "data": {
      "image/png": "[encoded data removed]",
      "text/plain": [
       "<matplotlib.figure.Figure at 0x9e83438>"
      ]
     },
     "metadata": {},
     "output_type": "display_data"
    }
   ],
   "source": [
    "plt.scatter(mnistsamples, mnist_percentages)\n",
    "plt.show()"
   ]
  },
  {
   "cell_type": "code",
   "execution_count": 18,
   "metadata": {
    "collapsed": false
   },
   "outputs": [
    {
     "data": {
      "image/png": "[encoded data removed]",
      "text/plain": [
       "<matplotlib.figure.Figure at 0x9e831d0>"
      ]
     },
     "metadata": {},
     "output_type": "display_data"
    }
   ],
   "source": [
    "plt.scatter(spamsamples, spam_percentages)\n",
    "plt.show()"
   ]
  },
  {
   "cell_type": "code",
   "execution_count": 19,
   "metadata": {
    "collapsed": false,
    "scrolled": true
   },
   "outputs": [
    {
     "data": {
      "image/png": "[encoded data removed]",
      "text/plain": [
       "<matplotlib.figure.Figure at 0xa2fa8d0>"
      ]
     },
     "metadata": {},
     "output_type": "display_data"
    }
   ],
   "source": [
    "plt.scatter(cifarsamples, cifar_percentages)\n",
    "plt.show()"
   ]
  },
  {
   "cell_type": "code",
   "execution_count": 20,
   "metadata": {
    "collapsed": false
   },
   "outputs": [
    {
     "name": "stdout",
     "output_type": "stream",
     "text": [
      "[0.6736, 0.9234, 0.9217, 0.9128, 0.9128, 0.9128, 0.9128, 0.9128, 0.9128]\n"
     ]
    }
   ],
   "source": [
    "c_values = [0.000000001,0.0000001,0.00001,0.001,0.1,1.0,100.0, 10000.0, 1000000.0]\n",
    "correct = [item[-1] for item in mnist_valid]\n",
    "c_percentages = []\n",
    "for c in c_values:\n",
    "    mnist_clf = svm.SVC(kernel='linear', C = c)\n",
    "    mnist_clf.fit(mnist10000[0], mnist10000[1])\n",
    "    predictions = mnist_clf.predict(mnist_input)\n",
    "    counter = 0\n",
    "    for i in xrange(0, len(predictions)):\n",
    "        if predictions[i] == correct[i]:\n",
    "            counter += 1\n",
    "    percent = float(counter) / len(predictions)\n",
    "    c_percentages.append(percent)\n",
    "print c_percentages"
   ]
  },
  {
   "cell_type": "code",
   "execution_count": 21,
   "metadata": {
    "collapsed": false
   },
   "outputs": [
    {
     "data": {
      "image/png": "[encoded data removed]",
      "text/plain": [
       "<matplotlib.figure.Figure at 0xa47ceb8>"
      ]
     },
     "metadata": {},
     "output_type": "display_data"
    }
   ],
   "source": [
    "plt.scatter(c_values[:4], c_percentages[:4])\n",
    "plt.show()"
   ]
  },
  {
   "cell_type": "markdown",
   "metadata": {},
   "source": [
    "Best C value was .0000001\n",
    "Values I tried were [0.000000001,0.0000001,0.00001,0.001,0.1,1.0,100.0, 10000.0, 1000000.0]\n",
    "Corresponding percentages were [0.6736, 0.9234, 0.9217, 0.9128, 0.9128, 0.9128, 0.9128, 0.9128, 0.9128]"
   ]
  },
  {
   "cell_type": "code",
   "execution_count": 22,
   "metadata": {
    "collapsed": false
   },
   "outputs": [],
   "source": [
    "k_spam_train = np.array(spam_tuples)\n",
    "np.random.shuffle(k_spam_train)"
   ]
  },
  {
   "cell_type": "code",
   "execution_count": 28,
   "metadata": {
    "collapsed": false
   },
   "outputs": [
    {
     "name": "stdout",
     "output_type": "stream",
     "text": [
      "[0.70997673310346765]\n"
     ]
    }
   ],
   "source": [
    "k_c_values = [0.000000001,0.0000001,0.00001,0.001,0.1,1.0, 100]\n",
    "k_c_percent = []\n",
    "\n",
    "\n",
    "c = 0.000000001\n",
    "clf = svm.SVC(kernel='linear', C=c)\n",
    "scores = cross_val_score(clf, [item[0] for item in k_spam_train], [item[1] for item in k_spam_train], cv=5)\n",
    "k_c_percent.append(scores.mean())\n",
    "\n",
    "# for c in k_c_values:\n",
    "#     total = 0.0\n",
    "#     for i in range(0, len(partitions)):\n",
    "#         spam_clf = svm.SVC(kernel='linear', C = c)\n",
    "#         partition_total = 0.0\n",
    "#         for j in range(0, len(partitions)):\n",
    "#             if i != j:\n",
    "#                 spam_clf.fit([item[0] for item in partitions[j]] , [item[1] for item in partitions[j]])\n",
    "#         correct = [item[1] for item in partitions[i]]\n",
    "#         spam_input = [item[0] for item in partitions[i]]\n",
    "#         predictions = spam_clf.predict(spam_input)\n",
    "#         for i in xrange(0, len(predictions)):\n",
    "#             if predictions[i] == correct[i]:\n",
    "#                 partition_total += 1\n",
    "#         percent = float(partition_total) / len(predictions)\n",
    "#         total += percent\n",
    "#     k_c_percent.append(total / 5.0)\n",
    "\n",
    "print k_c_percent\n",
    "        \n",
    "        \n",
    "                \n",
    "                \n",
    "        \n",
    "    "
   ]
  },
  {
   "cell_type": "code",
   "execution_count": 29,
   "metadata": {
    "collapsed": false
   },
   "outputs": [
    {
     "name": "stdout",
     "output_type": "stream",
     "text": [
      "[0.70997673310346765, 0.70997673310346765]\n"
     ]
    }
   ],
   "source": [
    "c = 0.0000001\n",
    "clf = svm.SVC(kernel='linear', C=c)\n",
    "scores = cross_val_score(clf, [item[0] for item in k_spam_train], [item[1] for item in k_spam_train], cv=5)\n",
    "k_c_percent.append(scores.mean())\n",
    "\n",
    "# for c in k_c_values:\n",
    "#     total = 0.0\n",
    "#     for i in range(0, len(partitions)):\n",
    "#         spam_clf = svm.SVC(kernel='linear', C = c)\n",
    "#         partition_total = 0.0\n",
    "#         for j in range(0, len(partitions)):\n",
    "#             if i != j:\n",
    "#                 spam_clf.fit([item[0] for item in partitions[j]] , [item[1] for item in partitions[j]])\n",
    "#         correct = [item[1] for item in partitions[i]]\n",
    "#         spam_input = [item[0] for item in partitions[i]]\n",
    "#         predictions = spam_clf.predict(spam_input)\n",
    "#         for i in xrange(0, len(predictions)):\n",
    "#             if predictions[i] == correct[i]:\n",
    "#                 partition_total += 1\n",
    "#         percent = float(partition_total) / len(predictions)\n",
    "#         total += percent\n",
    "#     k_c_percent.append(total / 5.0)\n",
    "\n",
    "print k_c_percent"
   ]
  },
  {
   "cell_type": "code",
   "execution_count": 26,
   "metadata": {
    "collapsed": false
   },
   "outputs": [
    {
     "name": "stdout",
     "output_type": "stream",
     "text": [
      "[0.70997673310346765, 0.70997673310346765, 0.70997673310346765]\n"
     ]
    }
   ],
   "source": [
    "c = 0.0000001\n",
    "clf = svm.SVC(kernel='linear', C=c)\n",
    "scores = cross_val_score(clf, [item[0] for item in k_spam_train], [item[1] for item in k_spam_train], cv=5)\n",
    "k_c_percent.append(scores.mean())\n",
    "\n",
    "# for c in k_c_values:\n",
    "#     total = 0.0\n",
    "#     for i in range(0, len(partitions)):\n",
    "#         spam_clf = svm.SVC(kernel='linear', C = c)\n",
    "#         partition_total = 0.0\n",
    "#         for j in range(0, len(partitions)):\n",
    "#             if i != j:\n",
    "#                 spam_clf.fit([item[0] for item in partitions[j]] , [item[1] for item in partitions[j]])\n",
    "#         correct = [item[1] for item in partitions[i]]\n",
    "#         spam_input = [item[0] for item in partitions[i]]\n",
    "#         predictions = spam_clf.predict(spam_input)\n",
    "#         for i in xrange(0, len(predictions)):\n",
    "#             if predictions[i] == correct[i]:\n",
    "#                 partition_total += 1\n",
    "#         percent = float(partition_total) / len(predictions)\n",
    "#         total += percent\n",
    "#     k_c_percent.append(total / 5.0)\n",
    "\n",
    "print k_c_percent"
   ]
  },
  {
   "cell_type": "code",
   "execution_count": 30,
   "metadata": {
    "collapsed": false
   },
   "outputs": [
    {
     "name": "stdout",
     "output_type": "stream",
     "text": [
      "[0.70997673310346765, 0.70997673310346765, 0.70997673310346765]\n"
     ]
    }
   ],
   "source": [
    "c = 0.00001\n",
    "clf = svm.SVC(kernel='linear', C=c)\n",
    "scores = cross_val_score(clf, [item[0] for item in k_spam_train], [item[1] for item in k_spam_train], cv=5)\n",
    "k_c_percent.append(scores.mean())\n",
    "\n",
    "\n",
    "print k_c_percent"
   ]
  },
  {
   "cell_type": "code",
   "execution_count": 31,
   "metadata": {
    "collapsed": false
   },
   "outputs": [
    {
     "name": "stdout",
     "output_type": "stream",
     "text": [
      "[0.70997673310346765, 0.70997673310346765, 0.70997673310346765, 0.75193040488137619]\n"
     ]
    }
   ],
   "source": [
    "c = 0.001\n",
    "clf = svm.SVC(kernel='linear', C=c)\n",
    "scores = cross_val_score(clf, [item[0] for item in k_spam_train], [item[1] for item in k_spam_train], cv=5)\n",
    "k_c_percent.append(scores.mean())\n",
    "\n",
    "\n",
    "print k_c_percent"
   ]
  },
  {
   "cell_type": "code",
   "execution_count": 32,
   "metadata": {
    "collapsed": false
   },
   "outputs": [
    {
     "name": "stdout",
     "output_type": "stream",
     "text": [
      "[0.70997673310346765, 0.70997673310346765, 0.70997673310346765, 0.75193040488137619, 0.79659518403274188]\n"
     ]
    }
   ],
   "source": [
    "c = 0.1\n",
    "clf = svm.SVC(kernel='linear', C=c)\n",
    "scores = cross_val_score(clf, [item[0] for item in k_spam_train], [item[1] for item in k_spam_train], cv=5)\n",
    "k_c_percent.append(scores.mean())\n",
    "\n",
    "\n",
    "print k_c_percent"
   ]
  },
  {
   "cell_type": "code",
   "execution_count": 33,
   "metadata": {
    "collapsed": false
   },
   "outputs": [
    {
     "name": "stdout",
     "output_type": "stream",
     "text": [
      "[0.70997673310346765, 0.70997673310346765, 0.70997673310346765, 0.75193040488137619, 0.79659518403274188, 0.80220297330380586]\n"
     ]
    }
   ],
   "source": [
    "c = 1.0\n",
    "clf = svm.SVC(kernel='linear', C=c)\n",
    "scores = cross_val_score(clf, [item[0] for item in k_spam_train], [item[1] for item in k_spam_train], cv=5)\n",
    "k_c_percent.append(scores.mean())\n",
    "\n",
    "\n",
    "print k_c_percent"
   ]
  },
  {
   "cell_type": "code",
   "execution_count": 34,
   "metadata": {
    "collapsed": false
   },
   "outputs": [
    {
     "name": "stdout",
     "output_type": "stream",
     "text": [
      "[0.70997673310346765, 0.70997673310346765, 0.70997673310346765, 0.75193040488137619, 0.79659518403274188, 0.80220297330380586, 0.80355619095674613]\n"
     ]
    }
   ],
   "source": [
    "c = 10.0\n",
    "clf = svm.SVC(kernel='linear', C=c)\n",
    "scores = cross_val_score(clf, [item[0] for item in k_spam_train], [item[1] for item in k_spam_train], cv=5)\n",
    "k_c_percent.append(scores.mean())\n",
    "\n",
    "\n",
    "print k_c_percent"
   ]
  },
  {
   "cell_type": "code",
   "execution_count": 35,
   "metadata": {
    "collapsed": true
   },
   "outputs": [],
   "source": [
    "k_c_values = [0.000000001,0.0000001,0.00001,0.001,0.1,1.0, 10]\n",
    "\n"
   ]
  },
  {
   "cell_type": "markdown",
   "metadata": {},
   "source": [
    "Best C value was 10\n",
    "Values I tried were [0.000000001,0.0000001,0.00001,0.001,0.1,1.0, 10]\n",
    "Corresponding percentages were [0.70997673310346765, 0.70997673310346765, 0.70997673310346765, 0.75193040488137619, 0.79659518403274188, 0.80220297330380586, 0.80355619095674613]"
   ]
  }
 ],
 "metadata": {
  "anaconda-cloud": {},
  "kernelspec": {
   "display_name": "Python [default]",
   "language": "python",
   "name": "python2"
  },
  "language_info": {
   "codemirror_mode": {
    "name": "ipython",
    "version": 2
   },
   "file_extension": ".py",
   "mimetype": "text/x-python",
   "name": "python",
   "nbconvert_exporter": "python",
   "pygments_lexer": "ipython2",
   "version": "2.7.12"
  }
 },
 "nbformat": 4,
 "nbformat_minor": 1
}
